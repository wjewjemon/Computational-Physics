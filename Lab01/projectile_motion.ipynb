{
 "cells": [
  {
   "cell_type": "markdown",
   "metadata": {},
   "source": [
    "## Projectile Distance vs Launch Angle\n",
    "Here Euler's method is used to simulate the motion of a small projectile. We will start with the case of the projectile being in a vacuum near Earth and then include the effects of air resistance, first by considering drag and then by accounting for spin."
   ]
  },
  {
   "cell_type": "code",
   "execution_count": 1,
   "metadata": {
    "collapsed": true
   },
   "outputs": [],
   "source": [
    "# Constants\n",
    "g = 9.81           # acceleration due to gravity [m/s^2]\n",
    "dt = 0.01          # time step [s]\n",
    "rho = 1.225        # density of air at sea level 15 Celsius [kg/m^3]\n",
    "A = 0.0015         # cross-sectional area of projectile [m^s]\n",
    "m = 0.05           # mass of projectile [kg]\n",
    "Somega = 0.01      # rough backspin constant (Magnus Effect) [kg/s]"
   ]
  },
  {
   "cell_type": "code",
   "execution_count": 2,
   "metadata": {
    "collapsed": true
   },
   "outputs": [],
   "source": [
    "# Options for Effects\n",
    "# 1: vacuum\n",
    "# 2: drag\n",
    "# 3: drag and spin\n",
    "option = 1"
   ]
  },
  {
   "cell_type": "code",
   "execution_count": 3,
   "metadata": {
    "collapsed": true
   },
   "outputs": [],
   "source": [
    "# drag coefficient\n",
    "def C(v):    \n",
    "    if v < 14:\n",
    "        return .5\n",
    "    return 7./v"
   ]
  },
  {
   "cell_type": "markdown",
   "metadata": {},
   "source": [
    "The equations of motion for a projectile in a vacuum near Earth."
   ]
  },
  {
   "cell_type": "markdown",
   "metadata": {},
   "source": [
    "\\begin{align*}\n",
    "\\frac{dx}{dt} = v_x & \\qquad\n",
    "\\frac{dy}{dt} = v_y \\\\\n",
    "\\frac{dv_x}{dt} = 0 & \\qquad\n",
    "\\frac{dv_y}{dt} = -g\n",
    "\\end{align*}"
   ]
  },
  {
   "cell_type": "code",
   "execution_count": 4,
   "metadata": {
    "collapsed": true
   },
   "outputs": [],
   "source": [
    "from numpy import zeros\n",
    "\n",
    "def f_vacuum(r):\n",
    "    dfdt = zeros(4)\n",
    "    \n",
    "    dfdt[0] = r[2]\n",
    "    dfdt[1] = r[3]\n",
    "    dfdt[2] = 0\n",
    "    dfdt[3] = -g\n",
    "    \n",
    "    return dfdt"
   ]
  },
  {
   "cell_type": "markdown",
   "metadata": {},
   "source": [
    "The equations of motion for a projectile experiencing air resistance causing drag but no spin."
   ]
  },
  {
   "cell_type": "markdown",
   "metadata": {},
   "source": [
    "\\begin{align*}\n",
    "\\frac{dx}{dt} = v_x & \\qquad\n",
    "\\frac{dy}{dt} = v_y \\\\\n",
    "\\frac{dv_x}{dt} = -\\frac{C\\rho Av_xv}{m} & \\qquad\n",
    "\\frac{dv_y}{dt} = -g - \\frac{C\\rho Av_yv}{m}\n",
    "\\end{align*}"
   ]
  },
  {
   "cell_type": "code",
   "execution_count": 5,
   "metadata": {
    "collapsed": true
   },
   "outputs": [],
   "source": [
    "from numpy import sqrt\n",
    "\n",
    "def f_drag(r):\n",
    "    dfdt = zeros(4)\n",
    "    \n",
    "    v = sqrt(r[2]**2 + r[3]**2)\n",
    "    dfdt[0] = r[2]\n",
    "    dfdt[1] = r[3]\n",
    "    dfdt[2] = -C(v)*rho*A*r[2]*v/m\n",
    "    dfdt[3] = -g - C(v)*rho*A*r[3]*v/m\n",
    "    \n",
    "    return dfdt"
   ]
  },
  {
   "cell_type": "markdown",
   "metadata": {},
   "source": [
    "The equations of motion for a projectile experiencing air resistance causing drag and spin."
   ]
  },
  {
   "cell_type": "markdown",
   "metadata": {},
   "source": [
    "\\begin{align*}\n",
    "\\frac{dx}{dt} = v_x & \\qquad\n",
    "\\frac{dy}{dt} = v_y \\\\\n",
    "\\frac{dv_x}{dt} = -\\frac{C\\rho Av_xv}{m} - \\frac{S\\omega v_y}{m} & \\qquad\n",
    "\\frac{dv_y}{dt} = -g - \\frac{C\\rho Av_yv}{m} + \\frac{S\\omega v_x}{m}\n",
    "\\end{align*}"
   ]
  },
  {
   "cell_type": "code",
   "execution_count": 6,
   "metadata": {
    "collapsed": true
   },
   "outputs": [],
   "source": [
    "def f_drag_spin(r):\n",
    "    dfdt = zeros(4)\n",
    "    \n",
    "    v = sqrt(r[2]**2 + r[3]**2)\n",
    "    dfdt[0] = r[2]\n",
    "    dfdt[1] = r[3]\n",
    "    dfdt[2] = -(C(v)*rho*A*r[2]*v + Somega*r[3])/m\n",
    "    dfdt[3] = -g - (C(v)*rho*A*r[3]*v - Somega*r[2])/m\n",
    "    \n",
    "    return dfdt"
   ]
  },
  {
   "cell_type": "code",
   "execution_count": 7,
   "metadata": {
    "collapsed": true
   },
   "outputs": [],
   "source": [
    "from numpy import arange\n",
    "\n",
    "if option == 1:\n",
    "    f = f_vacuum\n",
    "    launch_angles = arange(5, 86, 5)\n",
    "    system = 'vacuum'\n",
    "if option == 2:\n",
    "    f = f_drag\n",
    "    launch_angles = arange(5, 86, 5)\n",
    "    system = 'drag'\n",
    "if option == 3:\n",
    "    f = f_drag_spin\n",
    "    launch_angles = arange(.5, 20.1, .5)\n",
    "    system = 'drag and spin'"
   ]
  },
  {
   "cell_type": "code",
   "execution_count": 8,
   "metadata": {
    "collapsed": true
   },
   "outputs": [],
   "source": [
    "from numpy import cos, sin, pi\n",
    "\n",
    "# initialize list for horizontal distances travelled\n",
    "distances = []\n",
    "# run numerical integration\n",
    "for theta0 in launch_angles:\n",
    "    # initial conditions\n",
    "    v0 = 70            # launch speed [m/s]\n",
    "    r = zeros(4)\n",
    "    r[0], r[1] = 0., 0.    # start at origin\n",
    "    r[2] = v0*cos(theta0*pi/180)  # x-velocity [m/s]\n",
    "    r[3] = v0*sin(theta0*pi/180)  # y-velocity [m/s]\n",
    "    \n",
    "    while r[1] >= 0.:  # run for duration of flight\n",
    "        r += f(r)*dt\n",
    "    distances.append(r[0])"
   ]
  },
  {
   "cell_type": "code",
   "execution_count": 9,
   "metadata": {},
   "outputs": [
    {
     "data": {
      "image/png": "[encoded data removed]",
      "text/plain": [
       "<matplotlib.figure.Figure at 0x7fab1815c6d8>"
      ]
     },
     "metadata": {},
     "output_type": "display_data"
    }
   ],
   "source": [
    "from pylab import figure, plot, xlabel, ylabel, title, show\n",
    "\n",
    "figure(1)\n",
    "plot(launch_angles, distances)\n",
    "xlabel('launch angle [degrees]'), ylabel('distnace [m]')\n",
    "title('Horizontal Distance vs Launch Angle: {}'.format(system))\n",
    "show()"
   ]
  },
  {
   "cell_type": "markdown",
   "metadata": {},
   "source": [
    "Now let's plot the trajectory of the projectile when it is launched at the angle that results in the furthest horizontal distance travelled."
   ]
  },
  {
   "cell_type": "code",
   "execution_count": 10,
   "metadata": {
    "collapsed": true
   },
   "outputs": [],
   "source": [
    "from numpy import argmax\n",
    "\n",
    "max_index = argmax(distances)\n",
    "max_angle = launch_angles[max_index]\n",
    "r = zeros(4)\n",
    "r[0], r[1] = 0., 0.\n",
    "r[2] = v0*cos(max_angle*pi/180)\n",
    "r[3] = v0*sin(max_angle*pi/180)"
   ]
  },
  {
   "cell_type": "code",
   "execution_count": 11,
   "metadata": {
    "collapsed": true
   },
   "outputs": [],
   "source": [
    "# initialize lists for plotting\n",
    "x_optimal = []\n",
    "y_optimal = []\n",
    "\n",
    "while r[1] >= 0.:\n",
    "    x_optimal.append(r[0])\n",
    "    y_optimal.append(r[1])\n",
    "    \n",
    "    r+= f(r)*dt"
   ]
  },
  {
   "cell_type": "code",
   "execution_count": 12,
   "metadata": {},
   "outputs": [
    {
     "data": {
      "image/png": "[encoded data removed]",
      "text/plain": [
       "<matplotlib.figure.Figure at 0x7fab0cd9b048>"
      ]
     },
     "metadata": {},
     "output_type": "display_data"
    }
   ],
   "source": [
    "figure(2)\n",
    "plot(x_optimal, y_optimal)\n",
    "title('Optimal Launch Angle ({} degrees) Trajectory: {}'.format(max_angle, system))\n",
    "xlabel('x [m]'), ylabel('y [m]')\n",
    "show()"
   ]
  },
  {
   "cell_type": "markdown",
   "metadata": {},
   "source": [
    "## Distribution of Projectile Ranges\n",
    "Now we launch the projectile several times at random initial angles chosen from a range of angles with equal probability for each angle. The distribution of distances will be investigatedto determine how likely a projectile is to land within tolerance of a certain target distance."
   ]
  },
  {
   "cell_type": "code",
   "execution_count": 13,
   "metadata": {
    "collapsed": true
   },
   "outputs": [],
   "source": [
    "theta_min = 1\n",
    "theta_max = 70\n",
    "TOL = 0.10      # 10% tolerance\n",
    "target = 100    # target distance [m]\n",
    "tol = TOL*target\n",
    "N = 5000        # number of trials"
   ]
  },
  {
   "cell_type": "code",
   "execution_count": 14,
   "metadata": {
    "collapsed": true
   },
   "outputs": [],
   "source": [
    "# initialize arrays for plotting\n",
    "launch_angles = zeros(N)\n",
    "distances = zeros(N)"
   ]
  },
  {
   "cell_type": "code",
   "execution_count": 15,
   "metadata": {
    "collapsed": true
   },
   "outputs": [],
   "source": [
    "from random import random\n",
    "\n",
    "for trial in range(N):\n",
    "    # initial conditions\n",
    "    theta0 = theta_min + random()*(theta_max-theta_min)\n",
    "    v0 = 70\n",
    "    r = zeros(4)\n",
    "    r[0], r[1] = 0., 0.\n",
    "    r[2] = v0*cos(theta0*pi/180)\n",
    "    r[3] = v0*sin(theta0*pi/180)\n",
    "    \n",
    "    while r[1] >= 0.:\n",
    "        r += f(r)*dt\n",
    "    distances[trial] = r[0]\n",
    "    launch_angles[trial] = theta0"
   ]
  },
  {
   "cell_type": "code",
   "execution_count": 16,
   "metadata": {},
   "outputs": [
    {
     "data": {
      "image/png": "[encoded data removed]",
      "text/plain": [
       "<matplotlib.figure.Figure at 0x7fab0ccfcc50>"
      ]
     },
     "metadata": {},
     "output_type": "display_data"
    }
   ],
   "source": [
    "from pylab import subplot, scatter, hist, tight_layout\n",
    "\n",
    "figure(3, figsize=(8, 6))\n",
    "subplot(221)\n",
    "scatter(launch_angles, distances)\n",
    "xlabel('x [m]'), ylabel('y [m]')\n",
    "title('Horizontal Distance vs Launch Angle: {}'.format(system))\n",
    "\n",
    "subplot(222)\n",
    "hist(launch_angles, bins=50)\n",
    "xlabel('launch angle [degrees]'), ylabel('frequency')\n",
    "\n",
    "subplot(223)\n",
    "hist(distances, bins=50)\n",
    "xlabel('distance [m]'), ylabel('frequency')\n",
    "\n",
    "tight_layout()\n",
    "show()"
   ]
  },
  {
   "cell_type": "code",
   "execution_count": 17,
   "metadata": {},
   "outputs": [
    {
     "name": "stdout",
     "output_type": "stream",
     "text": [
      "1.5 percent of trials are withing tolerance of the target distance: vacuum\n"
     ]
    }
   ],
   "source": [
    "in_tol = ((target-tol < distances) & (distances < target+tol)).sum()\n",
    "print(100*in_tol/N, 'percent of trials are withing tolerance of the target distance:', system)"
   ]
  }
 ],
 "metadata": {
  "kernelspec": {
   "display_name": "Python 3",
   "language": "python",
   "name": "python3"
  },
  "language_info": {
   "codemirror_mode": {
    "name": "ipython",
    "version": 3
   },
   "file_extension": ".py",
   "mimetype": "text/x-python",
   "name": "python",
   "nbconvert_exporter": "python",
   "pygments_lexer": "ipython3",
   "version": "3.5.3"
  },
  "toc": {
   "colors": {
    "hover_highlight": "#DAA520",
    "navigate_num": "#000000",
    "navigate_text": "#333333",
    "running_highlight": "#FF0000",
    "selected_highlight": "#FFD700",
    "sidebar_border": "#EEEEEE",
    "wrapper_background": "#FFFFFF"
   },
   "moveMenuLeft": true,
   "nav_menu": {
    "height": "48px",
    "width": "252px"
   },
   "navigate_menu": true,
   "number_sections": true,
   "sideBar": true,
   "threshold": 4,
   "toc_cell": false,
   "toc_section_display": "block",
   "toc_window_display": false,
   "widenNotebook": false
  }
 },
 "nbformat": 4,
 "nbformat_minor": 2
}
