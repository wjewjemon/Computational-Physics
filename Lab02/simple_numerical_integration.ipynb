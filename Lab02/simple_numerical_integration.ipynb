{
 "cells": [
  {
   "cell_type": "markdown",
   "metadata": {},
   "source": [
    "## Numerical Integration"
   ]
  },
  {
   "cell_type": "markdown",
   "metadata": {},
   "source": [
    "\\begin{equation}\n",
    "I(a, b) = \\int_a^bf(x)dx\n",
    "\\end{equation}"
   ]
  },
  {
   "cell_type": "markdown",
   "metadata": {},
   "source": [
    "## Trapezoidal Rule"
   ]
  },
  {
   "cell_type": "markdown",
   "metadata": {},
   "source": [
    "Above, $I(a, b)$ is the integral of the function, $f(x)$, between $x=a$ and $x=b$. The Trapezoidal Rule can be used to numerically evaluate such integrals by splitting the interval from a to b into N slices each with width $h=(b-a)/N$. At each end point of these slices the function is evaluated. The end points of the k-th slice are $left = a+(k-1)*h$ and $right=a+k*h$, they form a trapezoid on the graph 'f(x) vs x' by connecting the points (left, 0), (left, f(left)), (right, f(right)), and (right, 0). The Trapezoidal Rule approximates the integral of f(x) by summing the area of all k trapezoids formed by this technique."
   ]
  },
  {
   "cell_type": "code",
   "execution_count": 1,
   "metadata": {
    "collapsed": true
   },
   "outputs": [],
   "source": [
    "def trapezoidal(f, a, b, N):\n",
    "    h = (b-a)/N\n",
    "    \n",
    "    s = (f(a) + f(b))/2.\n",
    "    for i in range(1, N):\n",
    "        s += f(a + i*h)\n",
    "    \n",
    "    return h*s"
   ]
  },
  {
   "cell_type": "markdown",
   "metadata": {},
   "source": [
    "## Simpson's Rule"
   ]
  },
  {
   "cell_type": "markdown",
   "metadata": {},
   "source": [
    "Simpson's Rule fits quadratic curves to pairs of slices and calculates the area under the quadratics. To demonstate lets consider the case where $N=2$ and $a=-b=-h$. If we fit a quadratic $Ax^2 + Bx + C$ we get:"
   ]
  },
  {
   "cell_type": "markdown",
   "metadata": {},
   "source": [
    "\\begin{align*}\n",
    "f(-h) &= Ah^2 - Bh + C & \n",
    "f(0)&=C & \n",
    "f(h)&=Ah^2 + Bh + C \\\\\n",
    "A &= \\frac{f(-h) - 2f(0) + f(h)}{2h^2} &\n",
    "B &= \\frac{f(h) - f(-h)}{2h} &\n",
    "C &= f(0) \\\\\n",
    "\\end{align*}\n",
    "\\begin{gather*} \n",
    "I(a, b) \\approx \\int_{-h}^{h}(Ax^2 + Bx + C)dx = \\frac{2}{3}Ah^3 + 2Ch = \\frac{f(-h) + 4f(0) + f(h)}{3} \n",
    "\\end{gather*}"
   ]
  },
  {
   "cell_type": "markdown",
   "metadata": {},
   "source": [
    "Sliding a curve along the x-axis does not change the are underneath it, so we can generalize to $I(a, a+2h) = (f(a) + 4f(a+h) + f(a+2h))/3$. This is the area of two consecutive slices of the interval as calculated by Simpson's Rule."
   ]
  },
  {
   "cell_type": "code",
   "execution_count": 2,
   "metadata": {
    "collapsed": true
   },
   "outputs": [],
   "source": [
    "def simpsons(f, a, b, N):\n",
    "    h = (b-a)/N\n",
    "    \n",
    "    s = f(a) + f(b)\n",
    "    for i in range(1, N, 2):\n",
    "        s += 4*f(a + i*h)\n",
    "    for j in range(2, N-1, 2):\n",
    "        s += 2*f(a + j*h)\n",
    "        \n",
    "    return h*s/3."
   ]
  },
  {
   "cell_type": "code",
   "execution_count": 3,
   "metadata": {
    "collapsed": true
   },
   "outputs": [],
   "source": [
    "# a sample function to integrate\n",
    "def f(x):\n",
    "    return 4/(1+x**2)"
   ]
  },
  {
   "cell_type": "code",
   "execution_count": 4,
   "metadata": {},
   "outputs": [
    {
     "name": "stdout",
     "output_type": "stream",
     "text": [
      "Relative Error:\n",
      "trapezoidal: 5.3051648270145844e-08\n",
      "simpson's: 4.240739575284689e-16\n"
     ]
    }
   ],
   "source": [
    "N = 1000\n",
    "a, b = 0., 1.\n",
    "from numpy import pi    # the actual value of f integrated between a and b\n",
    "\n",
    "t = trapezoidal(f, a, b, N)\n",
    "s = simpsons(f, a, b, N)\n",
    "print('Relative Error:')\n",
    "print('trapezoidal:', abs((pi-t)/pi))\n",
    "print(\"simpson's:\", abs((pi-s)/pi))"
   ]
  }
 ],
 "metadata": {
  "kernelspec": {
   "display_name": "Python 3",
   "language": "python",
   "name": "python3"
  },
  "language_info": {
   "codemirror_mode": {
    "name": "ipython",
    "version": 3
   },
   "file_extension": ".py",
   "mimetype": "text/x-python",
   "name": "python",
   "nbconvert_exporter": "python",
   "pygments_lexer": "ipython3",
   "version": "3.5.3"
  },
  "toc": {
   "colors": {
    "hover_highlight": "#DAA520",
    "navigate_num": "#000000",
    "navigate_text": "#333333",
    "running_highlight": "#FF0000",
    "selected_highlight": "#FFD700",
    "sidebar_border": "#EEEEEE",
    "wrapper_background": "#FFFFFF"
   },
   "moveMenuLeft": true,
   "nav_menu": {
    "height": "66px",
    "width": "252px"
   },
   "navigate_menu": true,
   "number_sections": true,
   "sideBar": true,
   "threshold": 4,
   "toc_cell": false,
   "toc_section_display": "block",
   "toc_window_display": false,
   "widenNotebook": false
  }
 },
 "nbformat": 4,
 "nbformat_minor": 2
}
