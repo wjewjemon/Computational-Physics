{
 "cells": [
  {
   "cell_type": "markdown",
   "metadata": {},
   "source": [
    "The formulae below are taken from Chapter 3 of Snow and Climate, by Armstrong and Brun. They are used to calculate the probability of blowing snow in the Canadian Praries as a function of temperature in degrees Celcius and snow surface age in hours."
   ]
  },
  {
   "cell_type": "markdown",
   "metadata": {},
   "source": [
    "\\begin{gather*}\n",
    "P(u_{10}, T_a, t_h) = \\frac{1}{\\sqrt{2\\pi\\delta}}\\int_{0}^{u_{10}} \\exp\\left(-\\frac{(\\bar{u}-u)^2}{2\\delta^2}\\right)du \\\\\n",
    "\\bar{u} = 11.2 + 0.365T_a + 0.00706T_a^2 + 0.9\\ln{t_h} \\\\\n",
    "\\delta = 4.3 + 0.145T_a + 0.00196T_a^2\n",
    "\\end{gather*}"
   ]
  },
  {
   "cell_type": "code",
   "execution_count": 1,
   "metadata": {
    "collapsed": true
   },
   "outputs": [],
   "source": [
    "from numpy import exp, sqrt, pi, zeros\n",
    "from math import log\n",
    "\n",
    "def u_bar(T_a, t_h):    # mean wind speed\n",
    "    return 11.2 + 0.365*T_a + 0.00706*T_a**2 + 0.9*log(t_h)\n",
    "\n",
    "def delta(T_a):    # standard deviation of wind speed\n",
    "    return 4.3 + 0.145*T_a + 0.00196*T_a**2  \n",
    "\n",
    "def integrand(u, T_a, t_h):   # integrand for probability of blowing snow\n",
    "    TaP = zeros((len(T_a), len(u)))\n",
    "    for i in range(len(T_a)):\n",
    "        TaP[i, :] = exp(-(u_bar(T_a[i], t_h) - u)**2/(2*delta(T_a[i])**2))/(sqrt(2*pi*delta(T_a[i])))\n",
    "    return TaP"
   ]
  },
  {
   "cell_type": "code",
   "execution_count": 2,
   "metadata": {},
   "outputs": [
    {
     "ename": "ImportError",
     "evalue": "No module named 'gaussxw'",
     "output_type": "error",
     "traceback": [
      "\u001b[0;31m--------------------------------------------------------------------------\u001b[0m",
      "\u001b[0;31mImportError\u001b[0m                              Traceback (most recent call last)",
      "\u001b[0;32m<ipython-input-2-5a68a5175797>\u001b[0m in \u001b[0;36m<module>\u001b[0;34m()\u001b[0m\n\u001b[1;32m      1\u001b[0m \u001b[0;32mfrom\u001b[0m \u001b[0mnumpy\u001b[0m \u001b[0;32mimport\u001b[0m \u001b[0mdot\u001b[0m\u001b[0;34m\u001b[0m\u001b[0m\n\u001b[0;32m----> 2\u001b[0;31m \u001b[0;32mfrom\u001b[0m \u001b[0mgaussxw\u001b[0m \u001b[0;32mimport\u001b[0m \u001b[0mgaussxwab\u001b[0m\u001b[0;34m\u001b[0m\u001b[0m\n\u001b[0m\u001b[1;32m      3\u001b[0m \u001b[0;34m\u001b[0m\u001b[0m\n\u001b[1;32m      4\u001b[0m \u001b[0;32mdef\u001b[0m \u001b[0mP\u001b[0m\u001b[0;34m(\u001b[0m\u001b[0mu_10\u001b[0m\u001b[0;34m,\u001b[0m \u001b[0mT_a\u001b[0m\u001b[0;34m,\u001b[0m \u001b[0mt_h\u001b[0m\u001b[0;34m)\u001b[0m\u001b[0;34m:\u001b[0m\u001b[0;34m\u001b[0m\u001b[0m\n\u001b[1;32m      5\u001b[0m     \u001b[0mN\u001b[0m \u001b[0;34m=\u001b[0m \u001b[0;36m100\u001b[0m\u001b[0;34m\u001b[0m\u001b[0m\n",
      "\u001b[0;31mImportError\u001b[0m: No module named 'gaussxw'"
     ]
    }
   ],
   "source": [
    "from numpy import dot\n",
    "from gaussxw import gaussxwab\n",
    "\n",
    "def P(u_10, T_a, t_h):\n",
    "    N = 100\n",
    "    u, w = gaussxwab(N, 0., u_10)\n",
    "    f = integrand(u, T_a, t_h)\n",
    "    return dot(f, w)"
   ]
  },
  {
   "cell_type": "code",
   "execution_count": null,
   "metadata": {},
   "outputs": [],
   "source": [
    "from pylab import figure, plot, title, xlabel, ylabel, legend, show\n",
    "from numpy import arange\n",
    "\n",
    "T_a = arange(-50, 1, 1)    # temperatures for which it may snow\n",
    "\n",
    "figure(1, figsize=[12,8])\n",
    "leg = []\n",
    "for (u_10, color) in zip((6, 8, 10), ('r', 'g', 'b')):\n",
    "    for (t_h, line) in zip((24, 48, 72), ('-', '.', ':')):\n",
    "        plot(T_a, P(u_10, T_a, t_h)*100,line+color)\n",
    "        leg.append('u_10={}, t_h={}'.format(u_10, t_h))\n",
    "title('Probability of Blowing Snow in the Canadian Praries')\n",
    "legend(leg)\n",
    "xlabel('Temperature [degrees Celcius]')\n",
    "ylabel('Probability')\n",
    "show()"
   ]
  },
  {
   "cell_type": "code",
   "execution_count": null,
   "metadata": {
    "collapsed": true
   },
   "outputs": [],
   "source": []
  }
 ],
 "metadata": {
  "kernelspec": {
   "display_name": "Python 3",
   "language": "python",
   "name": "python3"
  },
  "language_info": {
   "codemirror_mode": {
    "name": "ipython",
    "version": 3
   },
   "file_extension": ".py",
   "mimetype": "text/x-python",
   "name": "python",
   "nbconvert_exporter": "python",
   "pygments_lexer": "ipython3",
   "version": "3.5.3"
  },
  "toc": {
   "colors": {
    "hover_highlight": "#DAA520",
    "navigate_num": "#000000",
    "navigate_text": "#333333",
    "running_highlight": "#FF0000",
    "selected_highlight": "#FFD700",
    "sidebar_border": "#EEEEEE",
    "wrapper_background": "#FFFFFF"
   },
   "moveMenuLeft": true,
   "nav_menu": {
    "height": "12px",
    "width": "252px"
   },
   "navigate_menu": true,
   "number_sections": true,
   "sideBar": true,
   "threshold": 4,
   "toc_cell": false,
   "toc_section_display": "block",
   "toc_window_display": false,
   "widenNotebook": false
  }
 },
 "nbformat": 4,
 "nbformat_minor": 2
}
