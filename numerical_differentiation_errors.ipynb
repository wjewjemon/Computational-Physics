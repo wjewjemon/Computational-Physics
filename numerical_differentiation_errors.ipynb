{
 "cells": [
  {
   "cell_type": "markdown",
   "metadata": {},
   "source": [
    "## Errors in Differentiation Schemes\n",
    "Here I will attempt to show that the optimal step size for forward differentiation schemes is $\\sqrt(C) \\approx 10^{-8}$.\n",
    "If the step size is too small the rounding error will dominate, but if it is too large the truncation error will dominate."
   ]
  },
  {
   "cell_type": "code",
   "execution_count": 1,
   "metadata": {
    "collapsed": true
   },
   "outputs": [],
   "source": [
    "from math import exp\n",
    "from numpy import zeros\n",
    "from pylab import plot, xscale, yscale, legend, xlabel, ylabel"
   ]
  },
  {
   "cell_type": "code",
   "execution_count": 2,
   "metadata": {
    "collapsed": true
   },
   "outputs": [],
   "source": [
    "# a sample function to test our numerical differentiation methods on.\n",
    "def f(x):\n",
    "    return exp(-x**2)\n",
    "\n",
    "\n",
    "def forward(f, x, h):    # forward difference scheme\n",
    "    return (f(x+h)-f(x))/h\n",
    "\n",
    "\n",
    "def central(f, x, h):    # central difference scheme\n",
    "    return (f(x+h/2.)-f(x-h/2.))/h"
   ]
  },
  {
   "cell_type": "code",
   "execution_count": 3,
   "metadata": {
    "collapsed": true
   },
   "outputs": [],
   "source": [
    "# dfdx at x = 0.5\n",
    "analytic = -0.778800783"
   ]
  },
  {
   "cell_type": "code",
   "execution_count": 4,
   "metadata": {
    "collapsed": true
   },
   "outputs": [],
   "source": [
    "# initialize arrays for numerical values and errors\n",
    "pows = 17\n",
    "h = zeros(pows)\n",
    "numerical_f = zeros(pows)\n",
    "numerical_c = zeros(pows)\n",
    "rel_err_f = zeros(pows)\n",
    "rel_err_c = zeros(pows)"
   ]
  },
  {
   "cell_type": "code",
   "execution_count": 5,
   "metadata": {
    "collapsed": true
   },
   "outputs": [],
   "source": [
    "for i in range(pows):\n",
    "    h[i] = 10.**-i\n",
    "    numerical_f[i] = forward(f, .5, h[i])\n",
    "    numerical_c[i] = central(f, .5, h[i])\n",
    "    rel_err_f[i] = abs((analytic - numerical_f[i])/analytic)\n",
    "    rel_err_c[i] = abs((analytic - numerical_c[i])/analytic)"
   ]
  },
  {
   "cell_type": "code",
   "execution_count": 6,
   "metadata": {},
   "outputs": [
    {
     "data": {
      "image/png": "[encoded data removed]",
      "text/plain": [
       "<matplotlib.figure.Figure at 0x7fd9dc8aea20>"
      ]
     },
     "metadata": {},
     "output_type": "display_data"
    }
   ],
   "source": [
    "%matplotlib inline\n",
    "plot(h, rel_err_f, h, rel_err_c)\n",
    "legend(('forward', 'central'))\n",
    "xlabel('log(h)')\n",
    "ylabel('log(relative_error)')\n",
    "xscale('log')\n",
    "yscale('log')"
   ]
  },
  {
   "cell_type": "markdown",
   "metadata": {},
   "source": [
    "The relative error in the forward difference scheme reaches a minimum at $h=10^{-8}$  which confirms that this is an appropriate step size in this scenario."
   ]
  }
 ],
 "metadata": {
  "kernelspec": {
   "display_name": "Python 3",
   "language": "python",
   "name": "python3"
  },
  "language_info": {
   "codemirror_mode": {
    "name": "ipython",
    "version": 3
   },
   "file_extension": ".py",
   "mimetype": "text/x-python",
   "name": "python",
   "nbconvert_exporter": "python",
   "pygments_lexer": "ipython3",
   "version": "3.5.3"
  },
  "toc": {
   "colors": {
    "hover_highlight": "#DAA520",
    "navigate_num": "#000000",
    "navigate_text": "#333333",
    "running_highlight": "#FF0000",
    "selected_highlight": "#FFD700",
    "sidebar_border": "#EEEEEE",
    "wrapper_background": "#FFFFFF"
   },
   "moveMenuLeft": true,
   "nav_menu": {
    "height": "30px",
    "width": "252px"
   },
   "navigate_menu": true,
   "number_sections": true,
   "sideBar": true,
   "threshold": 4,
   "toc_cell": false,
   "toc_section_display": "block",
   "toc_window_display": false,
   "widenNotebook": false
  }
 },
 "nbformat": 4,
 "nbformat_minor": 2
}
