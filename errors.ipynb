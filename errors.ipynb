{
 "cells": [
  {
   "cell_type": "markdown",
   "metadata": {},
   "source": [
    "## Different Standard Deviation Calculation Techniques\n",
    "Two-pass and one-pass through the data standard deviation calculation methods are compared. Their relative errors are calculated using numpy.std to ge the 'actual' value."
   ]
  },
  {
   "cell_type": "code",
   "execution_count": 1,
   "metadata": {
    "collapsed": true
   },
   "outputs": [],
   "source": [
    "from numpy import loadtxt, sqrt, std"
   ]
  },
  {
   "cell_type": "markdown",
   "metadata": {},
   "source": [
    "A method to calculate standard deviation with two passes through the data:"
   ]
  },
  {
   "cell_type": "markdown",
   "metadata": {},
   "source": [
    "\\begin{gather*}\n",
    "\\bar{x} = \\frac{1}{n}\\sum_{i=1}^{n}x_{i} \\\\\n",
    "\\sigma \\equiv \\left[\\frac{1}{n-1}\\sum_{i=1}^n(x_{i}-\\bar{x})^2\\right]^{1/2}\n",
    "\\end{gather*}"
   ]
  },
  {
   "cell_type": "code",
   "execution_count": 2,
   "metadata": {
    "collapsed": true
   },
   "outputs": [],
   "source": [
    "def two_pass(data):\n",
    "    n = len(data)\n",
    "    \n",
    "    mean = 0.\n",
    "    for value in data:\n",
    "        mean += value\n",
    "    mean /= n\n",
    "    \n",
    "    var = 0.\n",
    "    for value in data:\n",
    "        var += (value - mean)**2\n",
    "    var /= n-1\n",
    "    \n",
    "    sigma = sqrt(var)\n",
    "    return sigma"
   ]
  },
  {
   "cell_type": "markdown",
   "metadata": {},
   "source": [
    "A method to calculate standard deviation with one pass through the data:\n",
    "\\begin{gather*}\n",
    "\\sigma \\equiv \\left[\\frac{1}{n-1}\\left(\\sum_{i=1}^nx_i^2-n\\bar{x}^2\\right)\\right]^{1/2}\n",
    "\\end{gather*}"
   ]
  },
  {
   "cell_type": "code",
   "execution_count": 3,
   "metadata": {
    "collapsed": true
   },
   "outputs": [],
   "source": [
    "def one_pass(data):\n",
    "    n = len(data)\n",
    "    \n",
    "    mean = 0.\n",
    "    tmp = 0.\n",
    "    for value in data:\n",
    "        mean += value\n",
    "        tmp += value**2\n",
    "    mean /= n\n",
    "    if n*mean**2 > tmp:\n",
    "        print(\"Can't take the square root of a negative number\")\n",
    "        return -1\n",
    "    tmp -= n*mean**2\n",
    "    \n",
    "    sigma = sqrt(tmp/(n-1))\n",
    "    return sigma"
   ]
  },
  {
   "cell_type": "code",
   "execution_count": 4,
   "metadata": {
    "collapsed": true
   },
   "outputs": [],
   "source": [
    "def relative_error(actual, approx):\n",
    "    return abs((actual-approx)/actual)"
   ]
  },
  {
   "cell_type": "code",
   "execution_count": 5,
   "metadata": {},
   "outputs": [
    {
     "name": "stdout",
     "output_type": "stream",
     "text": [
      "Relative Error:\n",
      "One Pass 3.74039760295e-09\n",
      "Two Pass 3.51289497185e-16\n"
     ]
    }
   ],
   "source": [
    "data = loadtxt('cdata.txt')\n",
    "actual = std(data, ddof=1)\n",
    "approx1 = one_pass(data)\n",
    "approx2 = two_pass(data)\n",
    "print(\"Relative Error:\")\n",
    "print(\"One Pass\", relative_error(actual, approx1))\n",
    "print(\"Two Pass\", relative_error(actual, approx2))"
   ]
  },
  {
   "cell_type": "markdown",
   "metadata": {},
   "source": [
    "Now lets generate a sequence with predetermined variance to further investigate the differences between the one-pass and two-pass methods."
   ]
  },
  {
   "cell_type": "code",
   "execution_count": 6,
   "metadata": {},
   "outputs": [
    {
     "name": "stdout",
     "output_type": "stream",
     "text": [
      "Relative Errors:\n",
      "seq_a, one_pass: 4.3770921991e-16\n",
      "seq_a, two_pass: 2.18854609955e-16\n",
      "seq_b, one_pass: 0.0261520352892\n",
      "seq_b, two_pass: 2.15245620699e-16\n"
     ]
    }
   ],
   "source": [
    "from numpy.random import normal\n",
    "\n",
    "seq_a = normal(0., 1., 2000)\n",
    "seq_b = normal(1e7, 1., 2000)\n",
    "\n",
    "actual_a = std(seq_a, ddof=1)\n",
    "sig1pa = one_pass(seq_a)\n",
    "sig2pa = two_pass(seq_a)\n",
    "rel1pa = relative_error(actual_a, sig1pa)\n",
    "rel2pa = relative_error(actual_a, sig2pa)\n",
    "\n",
    "actual_b = std(seq_b, ddof=1)\n",
    "sig1pb = one_pass(seq_b)\n",
    "sig2pb = two_pass(seq_b)\n",
    "rel1pb = relative_error(actual_b, sig1pb)\n",
    "rel2pb = relative_error(actual_b, sig2pb)\n",
    "\n",
    "print('Relative Errors:')\n",
    "print(\"seq_a, one_pass:\", rel1pa)\n",
    "print(\"seq_a, two_pass:\", rel2pa)\n",
    "print(\"seq_b, one_pass:\", rel1pb)\n",
    "print(\"seq_b, two_pass:\", rel2pb)"
   ]
  }
 ],
 "metadata": {
  "kernelspec": {
   "display_name": "Python 3",
   "language": "python",
   "name": "python3"
  },
  "language_info": {
   "codemirror_mode": {
    "name": "ipython",
    "version": 3
   },
   "file_extension": ".py",
   "mimetype": "text/x-python",
   "name": "python",
   "nbconvert_exporter": "python",
   "pygments_lexer": "ipython3",
   "version": "3.5.3"
  },
  "toc": {
   "colors": {
    "hover_highlight": "#DAA520",
    "navigate_num": "#000000",
    "navigate_text": "#333333",
    "running_highlight": "#FF0000",
    "selected_highlight": "#FFD700",
    "sidebar_border": "#EEEEEE",
    "wrapper_background": "#FFFFFF"
   },
   "moveMenuLeft": true,
   "nav_menu": {
    "height": "30px",
    "width": "252px"
   },
   "navigate_menu": true,
   "number_sections": true,
   "sideBar": true,
   "threshold": 4,
   "toc_cell": false,
   "toc_section_display": "block",
   "toc_window_display": false,
   "widenNotebook": false
  }
 },
 "nbformat": 4,
 "nbformat_minor": 2
}
