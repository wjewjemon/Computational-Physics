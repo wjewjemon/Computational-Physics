{
 "cells": [
  {
   "cell_type": "markdown",
   "metadata": {},
   "source": [
    "## Gaussian Quadrature\n",
    "Here we compare Gaussian quadrature to the Trapezoidal Rule and Simpson's Rule."
   ]
  },
  {
   "cell_type": "code",
   "execution_count": 1,
   "metadata": {
    "collapsed": true
   },
   "outputs": [],
   "source": [
    "def trapezoidal(f, a, b, N):\n",
    "    h = (b-a)/N\n",
    "    \n",
    "    s = (f(b) + f(a))/2.\n",
    "    for i in range(1, N):\n",
    "        s += f(a + i*h)\n",
    "    \n",
    "    return h*s"
   ]
  },
  {
   "cell_type": "code",
   "execution_count": 2,
   "metadata": {
    "collapsed": true
   },
   "outputs": [],
   "source": [
    "def simpsons(f, a, b, N):\n",
    "    h = (b-a)/N\n",
    "    \n",
    "    s = f(a) + f(b)\n",
    "    for i in range(1, N, 2):\n",
    "        s += 4*f(a + i*h)\n",
    "    for j in range(2, N-1, 2):\n",
    "        s += 2*f(a + j*h)\n",
    "    \n",
    "    return h*s/3."
   ]
  },
  {
   "cell_type": "code",
   "execution_count": 3,
   "metadata": {
    "collapsed": true
   },
   "outputs": [],
   "source": [
    "from gaussxw import gaussxwab\n",
    "\n",
    "def gauss(f, a, b, N):\n",
    "    x, w = gaussxwab(N, a, b)\n",
    "    \n",
    "    s = 0.\n",
    "    for i in range(N):\n",
    "        s += w[k]*f(x[k])"
   ]
  },
  {
   "cell_type": "code",
   "execution_count": 4,
   "metadata": {
    "collapsed": true
   },
   "outputs": [],
   "source": [
    "# a sample function to integrate\n",
    "def f(x):\n",
    "    return 4./(1+x^2)"
   ]
  },
  {
   "cell_type": "code",
   "execution_count": null,
   "metadata": {
    "collapsed": true
   },
   "outputs": [],
   "source": [
    "from numpy import arange, pi\n",
    "N = arange(10, 501, 5)\n"
   ]
  }
 ],
 "metadata": {
  "kernelspec": {
   "display_name": "Python 3",
   "language": "python",
   "name": "python3"
  },
  "language_info": {
   "codemirror_mode": {
    "name": "ipython",
    "version": 3
   },
   "file_extension": ".py",
   "mimetype": "text/x-python",
   "name": "python",
   "nbconvert_exporter": "python",
   "pygments_lexer": "ipython3",
   "version": "3.5.3"
  },
  "toc": {
   "colors": {
    "hover_highlight": "#DAA520",
    "navigate_num": "#000000",
    "navigate_text": "#333333",
    "running_highlight": "#FF0000",
    "selected_highlight": "#FFD700",
    "sidebar_border": "#EEEEEE",
    "wrapper_background": "#FFFFFF"
   },
   "moveMenuLeft": true,
   "nav_menu": {
    "height": "30px",
    "width": "252px"
   },
   "navigate_menu": true,
   "number_sections": true,
   "sideBar": true,
   "threshold": 4,
   "toc_cell": false,
   "toc_section_display": "block",
   "toc_window_display": false,
   "widenNotebook": false
  }
 },
 "nbformat": 4,
 "nbformat_minor": 2
}
