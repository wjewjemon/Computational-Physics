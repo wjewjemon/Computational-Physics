{
 "cells": [
  {
   "cell_type": "markdown",
   "metadata": {},
   "source": [
    "## Wien's Displacement Constant"
   ]
  },
  {
   "cell_type": "markdown",
   "metadata": {},
   "source": [
    "Planck's radiation law tells us that the intensity of spectral radiation per unit area and per unit wavelength from a black body at temperature T is:"
   ]
  },
  {
   "cell_type": "markdown",
   "metadata": {},
   "source": [
    "\\begin{gather*}\n",
    "I(\\lambda) = \\frac{2\\pi hc^2\\lambda^{-5}}{\\exp(hc/\\lambda k_BT)-1}\n",
    "\\end{gather*}"
   ]
  },
  {
   "cell_type": "markdown",
   "metadata": {},
   "source": [
    "where $h$ is Planck's constant, $c$ is the speed of light, and $k_B$ is Boltzmann's constant.\n",
    "\n",
    "Differentiation shows that the wavelength, $\\lambda$, for which the emitted radiation is strongest is the solution to:"
   ]
  },
  {
   "cell_type": "markdown",
   "metadata": {},
   "source": [
    "\\begin{gather*}\n",
    "5e^{-hc/\\lambda k_BT} + \\frac{hc}{\\lambda k_BT} - 5 = 0\n",
    "\\end{gather*}"
   ]
  },
  {
   "cell_type": "markdown",
   "metadata": {},
   "source": [
    "It can further be shown that, by making the substitution $x = hc/\\lambda k_BT$, the wavelength of maximum radiation obeys Wien's displacement law:"
   ]
  },
  {
   "cell_type": "markdown",
   "metadata": {},
   "source": [
    "\\begin{gather*} \\lambda = \\frac{b}{T} \\end{gather*}"
   ]
  },
  {
   "cell_type": "markdown",
   "metadata": {},
   "source": [
    "where Wien's displacement constant is $b = hc/k_B x$, and $x$ solves:\n",
    "\n",
    "$5e^{-x} + x - 5 = 0$."
   ]
  },
  {
   "cell_type": "markdown",
   "metadata": {},
   "source": [
    "Below I solve for x to specified accuracy by using the binary search method, the relaxation method, and Newton's method. "
   ]
  },
  {
   "cell_type": "code",
   "execution_count": 1,
   "metadata": {
    "collapsed": true
   },
   "outputs": [],
   "source": [
    "def binarysearch(f, x1, x2, eps):\n",
    "    if f(x1)/f(x2) > 0:\n",
    "        print('The initial points do not bracket the root.')\n",
    "        return -1, 0\n",
    "    else:\n",
    "        count = 0\n",
    "        while abs(x1-x2) > eps:\n",
    "            mid = (x1+x2)/2\n",
    "            if f(mid) == 0:\n",
    "                print('There is a root at x = ', mid)\n",
    "            elif f(mid)/f(x1) > 0:\n",
    "                x1 = mid\n",
    "            else:\n",
    "                x2 = mid\n",
    "            count += 1\n",
    "        return (x1 + x2)/2, count"
   ]
  },
  {
   "cell_type": "code",
   "execution_count": 2,
   "metadata": {
    "collapsed": true
   },
   "outputs": [],
   "source": [
    "from numpy import exp\n",
    "\n",
    "def relaxation(x, eps):\n",
    "    diff = eps*2.\n",
    "    count = 0\n",
    "    while diff > eps:\n",
    "        tmp = 5.*(1-exp(-x))\n",
    "        diff = abs(tmp-x)\n",
    "        x = tmp\n",
    "        count += 1\n",
    "    return x, count"
   ]
  },
  {
   "cell_type": "code",
   "execution_count": 3,
   "metadata": {
    "collapsed": true
   },
   "outputs": [],
   "source": [
    "def newton(f, df, x, eps):\n",
    "    diff = eps*2.\n",
    "    count = 0\n",
    "    while diff > eps:\n",
    "        tmp = x - f(x)/df(x)\n",
    "        diff = abs(tmp-x)\n",
    "        x = tmp\n",
    "        count += 1\n",
    "    return x, count"
   ]
  },
  {
   "cell_type": "code",
   "execution_count": 4,
   "metadata": {
    "collapsed": true
   },
   "outputs": [],
   "source": [
    "def f(x):\n",
    "    return 5.*exp(-x) + x - 5.\n",
    "\n",
    "def df(x):\n",
    "    return -5.*exp(-x) + 1."
   ]
  },
  {
   "cell_type": "code",
   "execution_count": 5,
   "metadata": {},
   "outputs": [],
   "source": [
    "from scipy.constants import Planck, c, Boltzmann\n",
    "\n",
    "# constants\n",
    "eps = 1e-6    # desired accuracy\n",
    "h = Planck    # Planck's constant m^2 kg / s\n",
    "sl = c        # speed of light m / s\n",
    "kb = Boltzmann # Boltzmann constant m^2 kg / s^2 K"
   ]
  },
  {
   "cell_type": "markdown",
   "metadata": {},
   "source": [
    "To choose values that bracket the root for which I am searching I will plot the function and pick values that seem suitable."
   ]
  },
  {
   "cell_type": "code",
   "execution_count": 6,
   "metadata": {},
   "outputs": [
    {
     "data": {
      "image/png": "[encoded data removed]",
      "text/plain": [
       "<matplotlib.figure.Figure at 0x7f50f78577f0>"
      ]
     },
     "metadata": {},
     "output_type": "display_data"
    }
   ],
   "source": [
    "from numpy import linspace\n",
    "from pylab import figure, plot, grid, show\n",
    "\n",
    "x = linspace(0., 10., 100)\n",
    "\n",
    "figure(1)\n",
    "plot(x, f(x))\n",
    "grid()\n",
    "show()"
   ]
  },
  {
   "cell_type": "code",
   "execution_count": 7,
   "metadata": {},
   "outputs": [
    {
     "name": "stdout",
     "output_type": "stream",
     "text": [
      "Binary: root = 4.965114116668701, count = 22\n",
      "Relaxation: root = 4.965114233286895, count = 6\n",
      "Newton: root = 4.965114231744276, count = 4\n"
     ]
    }
   ],
   "source": [
    "x1, x2 = 3., 7.    # values that bracket the root\n",
    "\n",
    "rootb, countb = binarysearch(f, x1, x2, eps)\n",
    "print('Binary: root = {}, count = {}'.format(rootb, countb))\n",
    "rootr, countr = relaxation(x2, eps)\n",
    "print('Relaxation: root = {}, count = {}'.format(rootr, countr))\n",
    "rootn, countn = newton(f, df, x2, eps)\n",
    "print('Newton: root = {}, count = {}'.format(rootn, countn))"
   ]
  },
  {
   "cell_type": "markdown",
   "metadata": {},
   "source": [
    "Wien's displacement law is often used to estimate the surface temperature of astronomical bodies. Below I use it to estimate the temperature of the surface of the Sun."
   ]
  },
  {
   "cell_type": "code",
   "execution_count": 8,
   "metadata": {},
   "outputs": [
    {
     "name": "stdout",
     "output_type": "stream",
     "text": [
      "Wien's displacement constant is 0.002897772981687388\n",
      "The Sun's surface temperature in K is 5772.456138819498\n"
     ]
    }
   ],
   "source": [
    "wien = h*sl/(kb*rootb)  # binary search to find Wien's constant\n",
    "print(\"Wien's displacement constant is\", wien)\n",
    "print(\"The Sun's surface temperature in K is\", wien/502e-9)"
   ]
  }
 ],
 "metadata": {
  "kernelspec": {
   "display_name": "Python 3",
   "language": "python",
   "name": "python3"
  },
  "language_info": {
   "codemirror_mode": {
    "name": "ipython",
    "version": 3
   },
   "file_extension": ".py",
   "mimetype": "text/x-python",
   "name": "python",
   "nbconvert_exporter": "python",
   "pygments_lexer": "ipython3",
   "version": "3.5.3"
  },
  "toc": {
   "colors": {
    "hover_highlight": "#DAA520",
    "navigate_num": "#000000",
    "navigate_text": "#333333",
    "running_highlight": "#FF0000",
    "selected_highlight": "#FFD700",
    "sidebar_border": "#EEEEEE",
    "wrapper_background": "#FFFFFF"
   },
   "moveMenuLeft": true,
   "nav_menu": {
    "height": "30px",
    "width": "252px"
   },
   "navigate_menu": true,
   "number_sections": true,
   "sideBar": true,
   "threshold": 4,
   "toc_cell": false,
   "toc_section_display": "block",
   "toc_window_display": false,
   "widenNotebook": false
  }
 },
 "nbformat": 4,
 "nbformat_minor": 2
}
