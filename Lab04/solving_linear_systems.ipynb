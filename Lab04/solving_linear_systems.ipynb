{
 "cells": [
  {
   "cell_type": "code",
   "execution_count": 1,
   "metadata": {
    "collapsed": true
   },
   "outputs": [],
   "source": [
    "from numpy import array\n",
    "\n",
    "# example array\n",
    "A = array([[2, 1, 4, 1],\n",
    "          [3, 4, -1, -1],\n",
    "          [1, -4, 1, 5],\n",
    "          [2, -2, 1, 3]], float)\n",
    "v = array([-4, 3, 9, 7], float)    # example vector"
   ]
  },
  {
   "cell_type": "code",
   "execution_count": 3,
   "metadata": {},
   "outputs": [
    {
     "name": "stdout",
     "output_type": "stream",
     "text": [
      "gauss\n",
      "partial\n",
      "partial\n",
      "partial\n"
     ]
    }
   ],
   "source": [
    "from SolvePartial import PartialPivot\n",
    "from SolveLinear import GaussElim\n",
    "from numpy.linalg import solve\n",
    "from time import clock\n",
    "\n",
    "s = clock()\n",
    "x1 = PartialPivot(A, v)\n",
    "e = clock()\n",
    "LU_time = e-s\n",
    "\n",
    "s = clock()\n",
    "x2 = GaussElim(A, v)\n",
    "e = clock()\n",
    "Gauss_time = e-s\n",
    "\n",
    "s = clock()\n",
    "x3 = solve(A, v)\n",
    "e = clock()\n",
    "Partial_time = e-s"
   ]
  },
  {
   "cell_type": "code",
   "execution_count": null,
   "metadata": {
    "collapsed": true
   },
   "outputs": [],
   "source": []
  }
 ],
 "metadata": {
  "kernelspec": {
   "display_name": "Python 3",
   "language": "python",
   "name": "python3"
  },
  "language_info": {
   "codemirror_mode": {
    "name": "ipython",
    "version": 3
   },
   "file_extension": ".py",
   "mimetype": "text/x-python",
   "name": "python",
   "nbconvert_exporter": "python",
   "pygments_lexer": "ipython3",
   "version": "3.5.3"
  },
  "toc": {
   "colors": {
    "hover_highlight": "#DAA520",
    "navigate_num": "#000000",
    "navigate_text": "#333333",
    "running_highlight": "#FF0000",
    "selected_highlight": "#FFD700",
    "sidebar_border": "#EEEEEE",
    "wrapper_background": "#FFFFFF"
   },
   "moveMenuLeft": true,
   "nav_menu": {
    "height": "12px",
    "width": "252px"
   },
   "navigate_menu": true,
   "number_sections": true,
   "sideBar": true,
   "threshold": 4,
   "toc_cell": false,
   "toc_section_display": "block",
   "toc_window_display": false,
   "widenNotebook": false
  }
 },
 "nbformat": 4,
 "nbformat_minor": 2
}
